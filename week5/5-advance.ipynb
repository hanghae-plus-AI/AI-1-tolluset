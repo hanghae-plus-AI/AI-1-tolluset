{
 "cells": [
  {
   "cell_type": "markdown",
   "id": "8d4c1147-6716-4167-8a98-ca22563218ac",
   "metadata": {},
   "source": [
    "✅ 수능 국어 문제를 준비합니다. 다음 github의 data > 2023_11_KICE.json data를 colab으로 불러오시면 됩니다:"
   ]
  },
  {
   "cell_type": "code",
   "execution_count": 1,
   "id": "e6c06fab-3917-4b85-9ca9-39501ecbb010",
   "metadata": {
    "collapsed": true,
    "jupyter": {
     "outputs_hidden": true
    },
    "scrolled": true
   },
   "outputs": [],
   "source": [
    "import json\n",
    "\n",
    "with open('./2023_11_KICE.json', 'r') as file:\n",
    "    ko = json.load(file)\n",
    "\n",
    "ko"
   ]
  },
  {
   "cell_type": "code",
   "execution_count": 2,
   "id": "41b02ac5-85c3-447c-9d04-4f65cdfb4e8e",
   "metadata": {},
   "outputs": [
    {
     "name": "stdout",
     "output_type": "stream",
     "text": [
      "Note: you may need to restart the kernel to use updated packages.\n"
     ]
    }
   ],
   "source": [
    "pip -q install openai"
   ]
  },
  {
   "cell_type": "markdown",
   "id": "afe69948-45f7-4eee-b9a8-1eb35b351bd4",
   "metadata": {},
   "source": [
    "✅ 하나의 문제에 대해서 GPT-4의 예측 결과를 내놓는 함수를 def prediction(problem)이라는 signature로 만드셔야 합니다. problem은 json 형태의 문제입니다. 내부는 logit 계산을 통해 구현하거나 순수하게 text 생성으로 해결하셔도 좋습니다. 단, 2023년도 수능 국어의 정답을 활용하시면 안됩니다."
   ]
  },
  {
   "cell_type": "code",
   "execution_count": 3,
   "id": "b0e74735-faf1-4a70-aef6-cc64b1c827ea",
   "metadata": {},
   "outputs": [],
   "source": [
    "from openai import OpenAI\n",
    "client = OpenAI()\n",
    "\n",
    "def prediction(problem):\n",
    "    res = []\n",
    "\n",
    "    system_content = \"\"\"You are a korean language teacher. Please choice the answer from the paragraph and questions. \n",
    "        ANSWER WITH ONLY ONE NUMBER DIGIT THAT YOU ASSUMED ANSWER, THE CHOICES INDEX IS START FROM 1, SO YOU CHOOSE SECOND, \n",
    "        THE OUTPUT IS NOT 1. NOT USING PROGRAMMING ARRAY INDEX START WITH 0\"\"\"\n",
    "\n",
    "\n",
    "    for question in problem[\"problems\"]:\n",
    "        user_content = f\"Paragraph: {problem[\"paragraph\"]}, Question: {question}\"\n",
    "\n",
    "        if 'question_plus' in problem:\n",
    "            user_content += f\", Question Plus: {question['question_plus']}\"\n",
    "        \n",
    "        user_content += f\", Choices: {question[\"choices\"]}\"\n",
    "        \n",
    "        messages=[\n",
    "            {\"role\": \"system\", \"content\": system_content},\n",
    "            {\"role\": \"user\", \"content\": user_content}\n",
    "        ]\n",
    "\n",
    "        completion = client.chat.completions.create(\n",
    "            model=\"gpt-4o\",\n",
    "            messages=messages,\n",
    "        )\n",
    "\n",
    "        res.append(completion.choices[0].message.content)\n",
    "\n",
    "    return res"
   ]
  },
  {
   "cell_type": "code",
   "execution_count": 4,
   "id": "e8e71182-bf58-4ac2-8dc4-95845b4511b3",
   "metadata": {},
   "outputs": [],
   "source": [
    "prds = [prediction(k) for k in ko]"
   ]
  },
  {
   "cell_type": "code",
   "execution_count": 6,
   "id": "d3e77fdf-f609-4af2-abd6-a60f0042ada4",
   "metadata": {},
   "outputs": [],
   "source": [
    "ans = [[pb[\"answer\"], pb[\"score\"]] for item in ko for pb in item[\"problems\"]]"
   ]
  },
  {
   "cell_type": "code",
   "execution_count": 7,
   "id": "8c609007-db72-47c1-a293-826679767383",
   "metadata": {},
   "outputs": [],
   "source": [
    "prd = [int(item) for sublist in prds for item in sublist]"
   ]
  },
  {
   "cell_type": "markdown",
   "id": "7803bfe3-539d-4209-8f14-0a9d9b75e3e2",
   "metadata": {},
   "source": [
    "✅ 채점 결과 50점을 넘기면 통과입니다."
   ]
  },
  {
   "cell_type": "code",
   "execution_count": 8,
   "id": "5b6d110a-e2f9-410b-a6fc-505fc4c9a2f2",
   "metadata": {},
   "outputs": [
    {
     "data": {
      "text/plain": [
       "96"
      ]
     },
     "execution_count": 8,
     "metadata": {},
     "output_type": "execute_result"
    }
   ],
   "source": [
    "sum([a[1] for a, p in zip(ans, prd) if a[0] == p])"
   ]
  },
  {
   "cell_type": "markdown",
   "id": "6ada5c03-b859-4af2-ac40-1ba95c6be66e",
   "metadata": {},
   "source": [
    "96점이므로 1등급.\n",
    "\n",
    "데이터 셋 레포지토리에서 gpt-4o 벤치마크한 69점 4등급에 비해 훨씬 높은 점수 받음,  o1-preview의 88점 보다 원점수가 높음."
   ]
  }
 ],
 "metadata": {
  "kernelspec": {
   "display_name": "Python 3 (ipykernel)",
   "language": "python",
   "name": "python3"
  },
  "language_info": {
   "codemirror_mode": {
    "name": "ipython",
    "version": 3
   },
   "file_extension": ".py",
   "mimetype": "text/x-python",
   "name": "python",
   "nbconvert_exporter": "python",
   "pygments_lexer": "ipython3",
   "version": "3.12.5"
  }
 },
 "nbformat": 4,
 "nbformat_minor": 5
}
