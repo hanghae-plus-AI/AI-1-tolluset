{
 "cells": [
  {
   "cell_type": "markdown",
   "metadata": {
    "colab_type": "text",
    "id": "view-in-github"
   },
   "source": [
    "<a href=\"https://colab.research.google.com/github/hanghae-plus-AI/AI-1-tolluset/blob/main/week5/5-basic.ipynb\" target=\"_parent\"><img src=\"https://colab.research.google.com/assets/colab-badge.svg\" alt=\"Open In Colab\"/></a>"
   ]
  },
  {
   "cell_type": "code",
   "execution_count": 1,
   "metadata": {
    "collapsed": true,
    "id": "ui4hJyndTqYL",
    "jupyter": {
     "outputs_hidden": true
    }
   },
   "outputs": [],
   "source": [
    "!pip -q install datasets"
   ]
  },
  {
   "cell_type": "code",
   "execution_count": 2,
   "metadata": {
    "colab": {
     "base_uri": "https://localhost:8080/"
    },
    "id": "OR-WLBupSWge",
    "outputId": "40ce2478-8fb6-47c9-b008-c618a24a4f71"
   },
   "outputs": [
    {
     "name": "stdout",
     "output_type": "stream",
     "text": [
      "The token has not been saved to the git credentials helper. Pass `add_to_git_credential=True` in this function directly or `--add-to-git-credential` if using via `huggingface-cli` if you want to set the git credential as well.\n",
      "Token is valid (permission: write).\n",
      "Your token has been saved to /root/.cache/huggingface/token\n",
      "Login successful\n"
     ]
    }
   ],
   "source": [
    "from huggingface_hub import login\n",
    "from google.colab import userdata\n",
    "\n",
    "\n",
    "login(userdata.get('HF_TOKEN'))"
   ]
  },
  {
   "cell_type": "code",
   "execution_count": 3,
   "metadata": {
    "colab": {
     "base_uri": "https://localhost:8080/",
     "height": 118,
     "referenced_widgets": [
      "c8b43a8ff20d47bab0acb9ab279b38e8",
      "3933d86b49fa4f1fa711a98daec36bc5",
      "cdea0b17475f4508ab45e57f3b5bf438",
      "9f7c5d75ca394865bc7cb28f9953bf81",
      "d3325567a607478fb65cb535385553a1",
      "f166947eb2a9490eb3f3898be7a137e9",
      "d873ed686a6e404a9d362863704ccaf6",
      "18711f6e480d492faacd36a6815dc9e0",
      "399b022e7e314efda60e305b8c0d577c",
      "b879a640b028475f9681a84aa2e3c5b9",
      "36290b743c4640008689d8882864af26"
     ]
    },
    "id": "9tnUVYfgSfiD",
    "outputId": "857923ff-9f38-4d52-e0be-6f29ce7b69e0"
   },
   "outputs": [
    {
     "name": "stderr",
     "output_type": "stream",
     "text": [
      "`config.hidden_act` is ignored, you should use `config.hidden_activation` instead.\n",
      "Gemma's activation function will be set to `gelu_pytorch_tanh`. Please, use\n",
      "`config.hidden_activation` if you want to override this behaviour.\n",
      "See https://github.com/huggingface/transformers/pull/29402 for more details.\n"
     ]
    },
    {
     "data": {
      "application/vnd.jupyter.widget-view+json": {
       "model_id": "c8b43a8ff20d47bab0acb9ab279b38e8",
       "version_major": 2,
       "version_minor": 0
      },
      "text/plain": [
       "Loading checkpoint shards:   0%|          | 0/2 [00:00<?, ?it/s]"
      ]
     },
     "metadata": {},
     "output_type": "display_data"
    }
   ],
   "source": [
    "from transformers import AutoTokenizer, AutoModelForCausalLM\n",
    "\n",
    "tokenizer = AutoTokenizer.from_pretrained(\"meta-llama/Llama-2-7b-chat-hf\")\n",
    "model = AutoModelForCausalLM.from_pretrained(\"meta-llama/Llama-2-7b-chat-hf\", device_map=\"auto\")"
   ]
  },
  {
   "cell_type": "markdown",
   "metadata": {
    "id": "rtUF99JSlCB2"
   },
   "source": [
    "✅ 이번 과제에서는 이전 주차 과제에서 활용했던 fancyzhx/ag_news 문제를 zero-shot classification으로 푸시면 됩니다. 아래 사항들에 유의하시면 될 것 같습니다."
   ]
  },
  {
   "cell_type": "code",
   "execution_count": 4,
   "metadata": {
    "colab": {
     "base_uri": "https://localhost:8080/",
     "height": 396,
     "referenced_widgets": [
      "1e960c2ba7d24d81a7fc26c1d9c99954",
      "79dd3b93bbe44068914c67597243cc5a",
      "9467632bad284aeda36dd057d8a3b84d",
      "7003c2d67d0240e7b80762c70bf6f47b",
      "e4d045311345492b858219074bbd9cfe",
      "e7f5a2bac2b94b3989b2e0c899c18731",
      "b6a2c8e8c35d421a9979627873a6106a",
      "a432e890470c4d22952278d2c16a94be",
      "14f2a4f0d7244a79820ffe7e4ee7e5ad",
      "145e25e4fe7a4147bea03f8f0cf3e4e5",
      "d8de0b3ddca54112ac568efec10cd7dc"
     ]
    },
    "id": "bT5p5fSqkiUL",
    "outputId": "5c16f120-d682-4779-8c7a-88c2169e8710"
   },
   "outputs": [
    {
     "data": {
      "application/vnd.jupyter.widget-view+json": {
       "model_id": "1e960c2ba7d24d81a7fc26c1d9c99954",
       "version_major": 2,
       "version_minor": 0
      },
      "text/plain": [
       "Map:   0%|          | 0/7600 [00:00<?, ? examples/s]"
      ]
     },
     "metadata": {},
     "output_type": "display_data"
    },
    {
     "name": "stdout",
     "output_type": "stream",
     "text": [
      "DatasetDict({\n",
      "    train: Dataset({\n",
      "        features: ['text', 'label'],\n",
      "        num_rows: 120000\n",
      "    })\n",
      "    test: Dataset({\n",
      "        features: ['text', 'label'],\n",
      "        num_rows: 7600\n",
      "    })\n",
      "})\n",
      "DatasetDict({\n",
      "    train: Dataset({\n",
      "        features: ['text', 'label', 'input_ids', 'attention_mask'],\n",
      "        num_rows: 120000\n",
      "    })\n",
      "    test: Dataset({\n",
      "        features: ['text', 'label', 'input_ids', 'attention_mask'],\n",
      "        num_rows: 7600\n",
      "    })\n",
      "})\n"
     ]
    }
   ],
   "source": [
    "from datasets import load_dataset\n",
    "\n",
    "ag_news = load_dataset(\"fancyzhx/ag_news\")\n",
    "\n",
    "def preprocess_function(examples):\n",
    "    return tokenizer(examples[\"text\"], max_length=300, truncation=True)\n",
    "\n",
    "tokenized_ag_news = ag_news.map(preprocess_function, batched=True)\n",
    "\n",
    "print(ag_news)\n",
    "print(tokenized_ag_news)"
   ]
  },
  {
   "cell_type": "code",
   "execution_count": 5,
   "metadata": {
    "colab": {
     "base_uri": "https://localhost:8080/"
    },
    "id": "F_U8AatwriIq",
    "outputId": "1458cad6-93a9-40d7-91fc-8d6d8384f67b"
   },
   "outputs": [
    {
     "data": {
      "text/plain": [
       "['World', 'Sports', 'Business', 'Sci/Tech']"
      ]
     },
     "execution_count": 5,
     "metadata": {},
     "output_type": "execute_result"
    }
   ],
   "source": [
    "ag_news_labels = ag_news['train'].features['label'].names\n",
    "\n",
    "ag_news_labels"
   ]
  },
  {
   "cell_type": "code",
   "execution_count": 6,
   "metadata": {
    "colab": {
     "base_uri": "https://localhost:8080/"
    },
    "id": "qeaG0GU8rh9v",
    "outputId": "3e4b71fd-5d86-464a-c5c2-708124d8b6f9"
   },
   "outputs": [
    {
     "name": "stderr",
     "output_type": "stream",
     "text": [
      "/usr/local/lib/python3.10/dist-packages/transformers/generation/utils.py:1258: UserWarning: Using the model-agnostic default `max_length` (=20) to control the generation length. We recommend setting `max_new_tokens` to control the maximum length of the generation.\n",
      "  warnings.warn(\n"
     ]
    },
    {
     "name": "stdout",
     "output_type": "stream",
     "text": [
      "tensor([[     2,    651,    888,    629,   1650,   2091,    603,   7018,   1503,\n",
      "          21737,    534, 235265,    109,    651,    888,    629,   1650,   2091,\n",
      "            603,   7018]], device='cuda:0')\n",
      "<bos>The new LLL model is published name gemma.\n",
      "\n",
      "The new LLL model is published\n"
     ]
    }
   ],
   "source": [
    "input_text = \"The new LLL model is published name gemma\"\n",
    "input_ids = tokenizer(input_text, return_tensors=\"pt\").to(\"cuda\")\n",
    "outputs = model.generate(**input_ids)\n",
    "print(outputs)\n",
    "\n",
    "print(tokenizer.decode(outputs[0]))"
   ]
  },
  {
   "cell_type": "code",
   "execution_count": 7,
   "metadata": {
    "colab": {
     "base_uri": "https://localhost:8080/"
    },
    "id": "BV23vDvvS95o",
    "outputId": "8159bc45-5147-4e1c-e7af-9a495c791e49"
   },
   "outputs": [
    {
     "name": "stdout",
     "output_type": "stream",
     "text": [
      "tensor([[    2,   651,   888,   629,  1650,  2091,   603,  7018,  1503, 21737,\n",
      "           534]], device='cuda:0')\n",
      "tensor(-18.2747, device='cuda:0', grad_fn=<SelectBackward0>)\n",
      "tensor(-30.8340, device='cuda:0', grad_fn=<SelectBackward0>)\n",
      "tensor(-24.9039, device='cuda:0', grad_fn=<SelectBackward0>)\n",
      "tensor(6.9362, device='cuda:0', grad_fn=<SelectBackward0>)\n",
      "tensor(-12.3923, device='cuda:0', grad_fn=<SelectBackward0>)\n",
      "tensor(-24.0329, device='cuda:0', grad_fn=<SelectBackward0>)\n",
      "tensor(-26.9775, device='cuda:0', grad_fn=<SelectBackward0>)\n",
      "tensor(-27.1768, device='cuda:0', grad_fn=<SelectBackward0>)\n",
      "tensor(-19.8710, device='cuda:0', grad_fn=<SelectBackward0>)\n",
      "tensor(-12.1889, device='cuda:0', grad_fn=<SelectBackward0>)\n",
      "tensor(-15.2993, device='cuda:0', grad_fn=<SelectBackward0>)\n"
     ]
    }
   ],
   "source": [
    "tokens = input_ids['input_ids']\n",
    "print(tokens)\n",
    "\n",
    "logits = model(**input_ids).logits\n",
    "for i in range(tokens.shape[-1]):\n",
    "    token = tokens[0, i].item()\n",
    "    print(logits[0, i, token])"
   ]
  },
  {
   "cell_type": "code",
   "execution_count": 8,
   "metadata": {
    "id": "80DYDWX_TGW4"
   },
   "outputs": [],
   "source": [
    "import torch\n",
    "\n",
    "def zero_shot_classification(text, task_description, labels):  # text는 주어진 입력, task_description은 task에 대한 설명, labels은 class들을 text로 변환한 결과입니다.\n",
    "    text_ids = tokenizer(task_description + text, return_tensors=\"pt\").to(\"cuda\")  # 먼저 task_description과 text를 이어붙인 후, tokenize합니다.\n",
    "    probs = []\n",
    "    for label in labels:  # 그 다음 각 text화된 label들을 tokenize하고 입력에 이어붙인 후, Gemma-2B에 넣어줍니다.\n",
    "        label_ids = tokenizer(label, return_tensors=\"pt\").to(\"cuda\")\n",
    "        n_label_tokens = label_ids['input_ids'].shape[-1] - 1  # text로 변환한 label의 token 수를 계산합니다.\n",
    "        input_ids = {\n",
    "            'input_ids': torch.concatenate([text_ids['input_ids'], label_ids['input_ids'][:, 1:]], axis=-1),  # concatenate 명령어를 통해 이어붙이는 모습입니다.\n",
    "            'attention_mask': torch.concatenate([text_ids['attention_mask'], label_ids['attention_mask'][:, 1:]], axis=-1)\n",
    "        }\n",
    "\n",
    "        logits = model(**input_ids).logits  # Logit을 계산한 모습입니다.\n",
    "        prob = 0\n",
    "        n_total = input_ids['input_ids'].shape[-1]\n",
    "        for i in range(n_label_tokens, 0, -1):  # 일반적으로 text로 변환한 label은 여러 token으로 이루어져있습니다. 이러한 label에 대한 logit은 구성하는 모든 token들의 logit들의 합으로 정의합니다.\n",
    "            token = label_ids['input_ids'][0, i].item()\n",
    "            prob += logits[0, n_total - i, token].item()\n",
    "        probs.append(prob)\n",
    "\n",
    "        del input_ids\n",
    "        del logits\n",
    "        torch.cuda.empty_cache()  # 위의 del과 empty_cache() 명령어를 통해 GPU를 제때 할당해제 해줍니다. 만약 GPU가 여유롭다면 지워주시는게 속도적으로 이득입니다.\n",
    "\n",
    "    return probs"
   ]
  },
  {
   "cell_type": "markdown",
   "metadata": {
    "id": "59oGhRjXkwbD"
   },
   "source": [
    "✅ Label들을 올바르게 text화 하여 넘겨주셔야 합니다."
   ]
  },
  {
   "cell_type": "code",
   "execution_count": 13,
   "metadata": {
    "colab": {
     "base_uri": "https://localhost:8080/"
    },
    "id": "qmRrHyEJTPXC",
    "outputId": "76791263-bf4d-4b87-d2e4-f4c12483367c"
   },
   "outputs": [
    {
     "name": "stdout",
     "output_type": "stream",
     "text": [
      "Sci/Tech\n"
     ]
    }
   ],
   "source": [
    "import numpy as np\n",
    "\n",
    "probs = zero_shot_classification(\n",
    "    \"Wall St. Bears Claw Back Into the Black (Reuters) Reuters - Short-sellers, Wall Street's dwindling\\band of ultra-cynics, are seeing green again.\",\n",
    "    \"What is the sentence category. 'World', 'Sports', 'Business', 'Sci/Tech': \",\n",
    "    [f\"{label}.\" for label in ag_news_labels]\n",
    "  )\n",
    "\n",
    "print(ag_news_labels[np.argmax(probs)])"
   ]
  },
  {
   "cell_type": "code",
   "execution_count": 12,
   "metadata": {
    "colab": {
     "base_uri": "https://localhost:8080/"
    },
    "id": "26bLrjmVPEU3",
    "outputId": "6ff82ba3-c6e3-44ea-af96-e61b566a5a11"
   },
   "outputs": [
    {
     "name": "stdout",
     "output_type": "stream",
     "text": [
      "negative\n"
     ]
    }
   ],
   "source": [
    "probs = zero_shot_classification(\n",
    "    \"\"\"Never cast models and Playboy bunnies in your films! Bob Fosse's \"Star 80\" about Dorothy Stratten, of whom Bogdanovich was obsessed enough to have married her SISTER after her murder at the hands of her low-life husband, is a zillion times more interesting than Dorothy herself on the silver screen. Patty Hansen is no actress either..I expected to see some sort of lost masterpiece a la Orson Welles but instead got Audrey Hepburn cavorting in jeans and a god-awful \"poodlesque\" hair-do....Very disappointing....\"Paper Moon\" and \"The Last Picture Show\" I could watch again and again. This clunker I could barely sit through once. This movie was reputedly not released because of the brouhaha surrounding Ms. Stratten's tawdry death; I think the real reason was because it was so bad!\"\"\",\n",
    "    \"Is the sentence negative or positive?: \",\n",
    "    [f\"{label}.\" for label in [\"negative\", \"positive\"]]\n",
    "  )\n",
    "\n",
    "print([\"negative\", \"positive\"][np.argmax(probs)])"
   ]
  },
  {
   "cell_type": "code",
   "execution_count": 17,
   "metadata": {
    "id": "yrEBDIQsYTsR"
   },
   "outputs": [],
   "source": [
    "from tqdm import tqdm\n",
    "\n",
    "prompts, label_prompts = [\n",
    "    \"What is the category that the sentence is in the following 'World', 'Sports', 'Business', 'Sci/Tech': \",\n",
    "    \"Which category does the following sentence belong to? Choose from: 'World', 'Sports', 'Business', 'Sci/Tech'.\",\n",
    "    \"Determine the category of the sentence from the options: 'World', 'Sports', 'Business', 'Sci/Tech'.\",\n",
    "    \"Classify the sentence into one of these categories - 'World', 'Sports', 'Business', 'Sci/Tech'.\"\n",
    "], [\n",
    "    \"Answer: \",\n",
    "    \"Answer: \",\n",
    "    \"Category is \",\n",
    "    \"This sentence is about \",\n",
    "]"
   ]
  },
  {
   "cell_type": "markdown",
   "metadata": {
    "id": "fctUKygElHtT"
   },
   "source": [
    "✅ test split data 50개에 대한 정확도 계산 코드 및 출력이 남아있어야 합니다."
   ]
  },
  {
   "cell_type": "code",
   "execution_count": 31,
   "metadata": {
    "colab": {
     "base_uri": "https://localhost:8080/"
    },
    "id": "4-NY-YG4ToT9",
    "outputId": "e6418f85-a7ce-4550-c071-72a5a9d62b59"
   },
   "outputs": [
    {
     "name": "stderr",
     "output_type": "stream",
     "text": [
      "100%|██████████| 50/50 [00:42<00:00,  1.17it/s]\n"
     ]
    },
    {
     "name": "stdout",
     "output_type": "stream",
     "text": [
      "What is the category that the sentence is in the following 'World', 'Sports', 'Business', 'Sci/Tech':  Answer: \n",
      "\n",
      "\n",
      " ✅✅✅ 26 %\n"
     ]
    },
    {
     "name": "stderr",
     "output_type": "stream",
     "text": [
      "100%|██████████| 50/50 [00:43<00:00,  1.15it/s]\n"
     ]
    },
    {
     "name": "stdout",
     "output_type": "stream",
     "text": [
      "Which category does the following sentence belong to? Choose from: 'World', 'Sports', 'Business', 'Sci/Tech'. Answer: \n",
      "\n",
      "\n",
      " ✅✅✅ 20 %\n"
     ]
    },
    {
     "name": "stderr",
     "output_type": "stream",
     "text": [
      "100%|██████████| 50/50 [00:43<00:00,  1.16it/s]\n"
     ]
    },
    {
     "name": "stdout",
     "output_type": "stream",
     "text": [
      "Determine the category of the sentence from the options: 'World', 'Sports', 'Business', 'Sci/Tech'. Category is \n",
      "\n",
      "\n",
      " ✅✅✅ 24 %\n"
     ]
    },
    {
     "name": "stderr",
     "output_type": "stream",
     "text": [
      "100%|██████████| 50/50 [00:43<00:00,  1.16it/s]"
     ]
    },
    {
     "name": "stdout",
     "output_type": "stream",
     "text": [
      "Classify the sentence into one of these categories - 'World', 'Sports', 'Business', 'Sci/Tech'. This sentence is about \n",
      "\n",
      "\n",
      " ✅✅✅ 22 %\n"
     ]
    },
    {
     "name": "stderr",
     "output_type": "stream",
     "text": [
      "\n"
     ]
    }
   ],
   "source": [
    "for prompt, label_prompt in zip(prompts, label_prompts):\n",
    "\n",
    "  n_corrects = 0\n",
    "  for i in tqdm(range(50)):\n",
    "      text = tokenized_ag_news['test'][i]['text']\n",
    "      label = tokenized_ag_news['test'][i]['label']\n",
    "      probs = zero_shot_classification(\n",
    "          text,\n",
    "          prompt,\n",
    "          labels=[f\"{label_prompt}: {label}.\" for label in ag_news_labels]\n",
    "      )\n",
    "\n",
    "      pred = np.argmax(np.array(probs))\n",
    "\n",
    "      if pred == label:\n",
    "          n_corrects += 1\n",
    "\n",
    "  print(prompt, label_prompt)\n",
    "  print(\"\\n\\n ✅✅✅\", round(n_corrects / 50 * 100), \"%\")\n"
   ]
  },
  {
   "cell_type": "code",
   "execution_count": 34,
   "metadata": {
    "colab": {
     "base_uri": "https://localhost:8080/"
    },
    "id": "nfV4nZfKdS02",
    "outputId": "e613e345-8396-4231-c035-37db71394bd6"
   },
   "outputs": [
    {
     "name": "stderr",
     "output_type": "stream",
     "text": [
      "/usr/local/lib/python3.10/dist-packages/transformers/tokenization_utils_base.py:1601: FutureWarning: `clean_up_tokenization_spaces` was not set. It will be set to `True` by default. This behavior will be depracted in transformers v4.45, and will be then set to `False` by default. For more details check this issue: https://github.com/huggingface/transformers/issues/31884\n",
      "  warnings.warn(\n"
     ]
    }
   ],
   "source": [
    "from transformers import AutoTokenizer, AutoModelForCausalLM\n",
    "\n",
    "tokenizer = AutoTokenizer.from_pretrained(\"EleutherAI/gpt-neo-2.7B\")\n",
    "model = AutoModelForCausalLM.from_pretrained(\"EleutherAI/gpt-neo-2.7B\", device_map=\"auto\")"
   ]
  },
  {
   "cell_type": "code",
   "execution_count": 35,
   "metadata": {
    "colab": {
     "base_uri": "https://localhost:8080/",
     "height": 49,
     "referenced_widgets": [
      "cf339baa931d44b2b81f3a555134249a",
      "e0ff0bd2cc514afc9055593cea46b942",
      "c8e77df21a494b029b962d807c361880",
      "6ec90277f1104ed5be7e5c3e5863afed",
      "20f108a1a29243fead65448405229ed2",
      "03c5d1e4457549789422df722b137411",
      "e9255fc311294613a544f7ad82f5e085",
      "e02b682d1167418795bb99efb0c1b483",
      "7b560fc827544b3cbbf73bb9184a168e",
      "f541067daa6f421096cf239610aea15c",
      "23ea5c6732674762aec8fd8c35a31864"
     ]
    },
    "id": "9KDrgm0gdUj5",
    "outputId": "6cd6b996-8a28-4898-b4c6-976ac8dce8b7"
   },
   "outputs": [
    {
     "data": {
      "application/vnd.jupyter.widget-view+json": {
       "model_id": "cf339baa931d44b2b81f3a555134249a",
       "version_major": 2,
       "version_minor": 0
      },
      "text/plain": [
       "Map:   0%|          | 0/7600 [00:00<?, ? examples/s]"
      ]
     },
     "metadata": {},
     "output_type": "display_data"
    }
   ],
   "source": [
    "from datasets import load_dataset\n",
    "\n",
    "ag_news = load_dataset(\"fancyzhx/ag_news\")\n",
    "\n",
    "def preprocess_function(examples):\n",
    "    return tokenizer(examples[\"text\"], max_length=300, truncation=True)\n",
    "\n",
    "tokenized_ag_news = ag_news.map(preprocess_function, batched=True)"
   ]
  },
  {
   "cell_type": "code",
   "execution_count": 36,
   "metadata": {
    "colab": {
     "base_uri": "https://localhost:8080/"
    },
    "id": "ZCiSNtF7dbKW",
    "outputId": "d1a81506-4442-4f5c-97bc-8d35393b783c"
   },
   "outputs": [
    {
     "name": "stderr",
     "output_type": "stream",
     "text": [
      "100%|██████████| 50/50 [00:53<00:00,  1.07s/it]"
     ]
    },
    {
     "name": "stdout",
     "output_type": "stream",
     "text": [
      "What is the category that the sentence is in the following 'World', 'Sports', 'Business', 'Sci/Tech':  Answer: \n",
      "\n",
      "\n",
      " ✅✅✅ 32 %\n"
     ]
    },
    {
     "name": "stderr",
     "output_type": "stream",
     "text": [
      "\n"
     ]
    }
   ],
   "source": [
    "from tqdm import tqdm\n",
    "import numpy as np\n",
    "\n",
    "\n",
    "prompt, label_prompt = \"What is the category that the sentence is in the following 'World', 'Sports', 'Business', 'Sci/Tech': \", \"Answer: \"\n",
    "\n",
    "n_corrects = 0\n",
    "for i in tqdm(range(50)):\n",
    "    text = tokenized_ag_news['test'][i]['text']\n",
    "    label = tokenized_ag_news['test'][i]['label']\n",
    "    probs = zero_shot_classification(\n",
    "        text,\n",
    "        prompt,\n",
    "        labels=[f\"{label_prompt}: {label}.\" for label in ag_news_labels]\n",
    "    )\n",
    "\n",
    "    pred = np.argmax(np.array(probs))\n",
    "\n",
    "    if pred == label:\n",
    "        n_corrects += 1\n",
    "\n",
    "print(prompt, label_prompt)\n",
    "print(\"\\n\\n ✅✅✅\", round(n_corrects / 50 * 100), \"%\")\n"
   ]
  },
  {
   "cell_type": "markdown",
   "metadata": {},
   "source": [
    "프롬프트보다 더 좋은 성능의 모델을 사용하는게 좋아 보임."
   ]
  }
 ],
 "metadata": {
  "accelerator": "GPU",
  "colab": {
   "gpuType": "T4",
   "include_colab_link": true,
   "provenance": []
  },
  "kernelspec": {
   "display_name": "Python 3 (ipykernel)",
   "language": "python",
   "name": "python3"
  },
  "language_info": {
   "codemirror_mode": {
    "name": "ipython",
    "version": 3
   },
   "file_extension": ".py",
   "mimetype": "text/x-python",
   "name": "python",
   "nbconvert_exporter": "python",
   "pygments_lexer": "ipython3",
   "version": "3.12.5"
  },
  "widgets": {
   "application/vnd.jupyter.widget-state+json": {
    "145e25e4fe7a4147bea03f8f0cf3e4e5": {
     "model_module": "@jupyter-widgets/base",
     "model_module_version": "1.2.0",
     "model_name": "LayoutModel",
     "state": {
      "_model_module": "@jupyter-widgets/base",
      "_model_module_version": "1.2.0",
      "_model_name": "LayoutModel",
      "_view_count": null,
      "_view_module": "@jupyter-widgets/base",
      "_view_module_version": "1.2.0",
      "_view_name": "LayoutView",
      "align_content": null,
      "align_items": null,
      "align_self": null,
      "border": null,
      "bottom": null,
      "display": null,
      "flex": null,
      "flex_flow": null,
      "grid_area": null,
      "grid_auto_columns": null,
      "grid_auto_flow": null,
      "grid_auto_rows": null,
      "grid_column": null,
      "grid_gap": null,
      "grid_row": null,
      "grid_template_areas": null,
      "grid_template_columns": null,
      "grid_template_rows": null,
      "height": null,
      "justify_content": null,
      "justify_items": null,
      "left": null,
      "margin": null,
      "max_height": null,
      "max_width": null,
      "min_height": null,
      "min_width": null,
      "object_fit": null,
      "object_position": null,
      "order": null,
      "overflow": null,
      "overflow_x": null,
      "overflow_y": null,
      "padding": null,
      "right": null,
      "top": null,
      "visibility": null,
      "width": null
     }
    },
    "14f2a4f0d7244a79820ffe7e4ee7e5ad": {
     "model_module": "@jupyter-widgets/controls",
     "model_module_version": "1.5.0",
     "model_name": "ProgressStyleModel",
     "state": {
      "_model_module": "@jupyter-widgets/controls",
      "_model_module_version": "1.5.0",
      "_model_name": "ProgressStyleModel",
      "_view_count": null,
      "_view_module": "@jupyter-widgets/base",
      "_view_module_version": "1.2.0",
      "_view_name": "StyleView",
      "bar_color": null,
      "description_width": ""
     }
    },
    "18711f6e480d492faacd36a6815dc9e0": {
     "model_module": "@jupyter-widgets/base",
     "model_module_version": "1.2.0",
     "model_name": "LayoutModel",
     "state": {
      "_model_module": "@jupyter-widgets/base",
      "_model_module_version": "1.2.0",
      "_model_name": "LayoutModel",
      "_view_count": null,
      "_view_module": "@jupyter-widgets/base",
      "_view_module_version": "1.2.0",
      "_view_name": "LayoutView",
      "align_content": null,
      "align_items": null,
      "align_self": null,
      "border": null,
      "bottom": null,
      "display": null,
      "flex": null,
      "flex_flow": null,
      "grid_area": null,
      "grid_auto_columns": null,
      "grid_auto_flow": null,
      "grid_auto_rows": null,
      "grid_column": null,
      "grid_gap": null,
      "grid_row": null,
      "grid_template_areas": null,
      "grid_template_columns": null,
      "grid_template_rows": null,
      "height": null,
      "justify_content": null,
      "justify_items": null,
      "left": null,
      "margin": null,
      "max_height": null,
      "max_width": null,
      "min_height": null,
      "min_width": null,
      "object_fit": null,
      "object_position": null,
      "order": null,
      "overflow": null,
      "overflow_x": null,
      "overflow_y": null,
      "padding": null,
      "right": null,
      "top": null,
      "visibility": null,
      "width": null
     }
    },
    "1e960c2ba7d24d81a7fc26c1d9c99954": {
     "model_module": "@jupyter-widgets/controls",
     "model_module_version": "1.5.0",
     "model_name": "HBoxModel",
     "state": {
      "_dom_classes": [],
      "_model_module": "@jupyter-widgets/controls",
      "_model_module_version": "1.5.0",
      "_model_name": "HBoxModel",
      "_view_count": null,
      "_view_module": "@jupyter-widgets/controls",
      "_view_module_version": "1.5.0",
      "_view_name": "HBoxView",
      "box_style": "",
      "children": [
       "IPY_MODEL_79dd3b93bbe44068914c67597243cc5a",
       "IPY_MODEL_9467632bad284aeda36dd057d8a3b84d",
       "IPY_MODEL_7003c2d67d0240e7b80762c70bf6f47b"
      ],
      "layout": "IPY_MODEL_e4d045311345492b858219074bbd9cfe"
     }
    },
    "36290b743c4640008689d8882864af26": {
     "model_module": "@jupyter-widgets/controls",
     "model_module_version": "1.5.0",
     "model_name": "DescriptionStyleModel",
     "state": {
      "_model_module": "@jupyter-widgets/controls",
      "_model_module_version": "1.5.0",
      "_model_name": "DescriptionStyleModel",
      "_view_count": null,
      "_view_module": "@jupyter-widgets/base",
      "_view_module_version": "1.2.0",
      "_view_name": "StyleView",
      "description_width": ""
     }
    },
    "3933d86b49fa4f1fa711a98daec36bc5": {
     "model_module": "@jupyter-widgets/controls",
     "model_module_version": "1.5.0",
     "model_name": "HTMLModel",
     "state": {
      "_dom_classes": [],
      "_model_module": "@jupyter-widgets/controls",
      "_model_module_version": "1.5.0",
      "_model_name": "HTMLModel",
      "_view_count": null,
      "_view_module": "@jupyter-widgets/controls",
      "_view_module_version": "1.5.0",
      "_view_name": "HTMLView",
      "description": "",
      "description_tooltip": null,
      "layout": "IPY_MODEL_f166947eb2a9490eb3f3898be7a137e9",
      "placeholder": "​",
      "style": "IPY_MODEL_d873ed686a6e404a9d362863704ccaf6",
      "value": "Loading checkpoint shards: 100%"
     }
    },
    "399b022e7e314efda60e305b8c0d577c": {
     "model_module": "@jupyter-widgets/controls",
     "model_module_version": "1.5.0",
     "model_name": "ProgressStyleModel",
     "state": {
      "_model_module": "@jupyter-widgets/controls",
      "_model_module_version": "1.5.0",
      "_model_name": "ProgressStyleModel",
      "_view_count": null,
      "_view_module": "@jupyter-widgets/base",
      "_view_module_version": "1.2.0",
      "_view_name": "StyleView",
      "bar_color": null,
      "description_width": ""
     }
    },
    "7003c2d67d0240e7b80762c70bf6f47b": {
     "model_module": "@jupyter-widgets/controls",
     "model_module_version": "1.5.0",
     "model_name": "HTMLModel",
     "state": {
      "_dom_classes": [],
      "_model_module": "@jupyter-widgets/controls",
      "_model_module_version": "1.5.0",
      "_model_name": "HTMLModel",
      "_view_count": null,
      "_view_module": "@jupyter-widgets/controls",
      "_view_module_version": "1.5.0",
      "_view_name": "HTMLView",
      "description": "",
      "description_tooltip": null,
      "layout": "IPY_MODEL_145e25e4fe7a4147bea03f8f0cf3e4e5",
      "placeholder": "​",
      "style": "IPY_MODEL_d8de0b3ddca54112ac568efec10cd7dc",
      "value": " 7600/7600 [00:02&lt;00:00, 3312.59 examples/s]"
     }
    },
    "79dd3b93bbe44068914c67597243cc5a": {
     "model_module": "@jupyter-widgets/controls",
     "model_module_version": "1.5.0",
     "model_name": "HTMLModel",
     "state": {
      "_dom_classes": [],
      "_model_module": "@jupyter-widgets/controls",
      "_model_module_version": "1.5.0",
      "_model_name": "HTMLModel",
      "_view_count": null,
      "_view_module": "@jupyter-widgets/controls",
      "_view_module_version": "1.5.0",
      "_view_name": "HTMLView",
      "description": "",
      "description_tooltip": null,
      "layout": "IPY_MODEL_e7f5a2bac2b94b3989b2e0c899c18731",
      "placeholder": "​",
      "style": "IPY_MODEL_b6a2c8e8c35d421a9979627873a6106a",
      "value": "Map: 100%"
     }
    },
    "9467632bad284aeda36dd057d8a3b84d": {
     "model_module": "@jupyter-widgets/controls",
     "model_module_version": "1.5.0",
     "model_name": "FloatProgressModel",
     "state": {
      "_dom_classes": [],
      "_model_module": "@jupyter-widgets/controls",
      "_model_module_version": "1.5.0",
      "_model_name": "FloatProgressModel",
      "_view_count": null,
      "_view_module": "@jupyter-widgets/controls",
      "_view_module_version": "1.5.0",
      "_view_name": "ProgressView",
      "bar_style": "success",
      "description": "",
      "description_tooltip": null,
      "layout": "IPY_MODEL_a432e890470c4d22952278d2c16a94be",
      "max": 7600,
      "min": 0,
      "orientation": "horizontal",
      "style": "IPY_MODEL_14f2a4f0d7244a79820ffe7e4ee7e5ad",
      "value": 7600
     }
    },
    "9f7c5d75ca394865bc7cb28f9953bf81": {
     "model_module": "@jupyter-widgets/controls",
     "model_module_version": "1.5.0",
     "model_name": "HTMLModel",
     "state": {
      "_dom_classes": [],
      "_model_module": "@jupyter-widgets/controls",
      "_model_module_version": "1.5.0",
      "_model_name": "HTMLModel",
      "_view_count": null,
      "_view_module": "@jupyter-widgets/controls",
      "_view_module_version": "1.5.0",
      "_view_name": "HTMLView",
      "description": "",
      "description_tooltip": null,
      "layout": "IPY_MODEL_b879a640b028475f9681a84aa2e3c5b9",
      "placeholder": "​",
      "style": "IPY_MODEL_36290b743c4640008689d8882864af26",
      "value": " 2/2 [00:28&lt;00:00, 11.99s/it]"
     }
    },
    "a432e890470c4d22952278d2c16a94be": {
     "model_module": "@jupyter-widgets/base",
     "model_module_version": "1.2.0",
     "model_name": "LayoutModel",
     "state": {
      "_model_module": "@jupyter-widgets/base",
      "_model_module_version": "1.2.0",
      "_model_name": "LayoutModel",
      "_view_count": null,
      "_view_module": "@jupyter-widgets/base",
      "_view_module_version": "1.2.0",
      "_view_name": "LayoutView",
      "align_content": null,
      "align_items": null,
      "align_self": null,
      "border": null,
      "bottom": null,
      "display": null,
      "flex": null,
      "flex_flow": null,
      "grid_area": null,
      "grid_auto_columns": null,
      "grid_auto_flow": null,
      "grid_auto_rows": null,
      "grid_column": null,
      "grid_gap": null,
      "grid_row": null,
      "grid_template_areas": null,
      "grid_template_columns": null,
      "grid_template_rows": null,
      "height": null,
      "justify_content": null,
      "justify_items": null,
      "left": null,
      "margin": null,
      "max_height": null,
      "max_width": null,
      "min_height": null,
      "min_width": null,
      "object_fit": null,
      "object_position": null,
      "order": null,
      "overflow": null,
      "overflow_x": null,
      "overflow_y": null,
      "padding": null,
      "right": null,
      "top": null,
      "visibility": null,
      "width": null
     }
    },
    "b6a2c8e8c35d421a9979627873a6106a": {
     "model_module": "@jupyter-widgets/controls",
     "model_module_version": "1.5.0",
     "model_name": "DescriptionStyleModel",
     "state": {
      "_model_module": "@jupyter-widgets/controls",
      "_model_module_version": "1.5.0",
      "_model_name": "DescriptionStyleModel",
      "_view_count": null,
      "_view_module": "@jupyter-widgets/base",
      "_view_module_version": "1.2.0",
      "_view_name": "StyleView",
      "description_width": ""
     }
    },
    "b879a640b028475f9681a84aa2e3c5b9": {
     "model_module": "@jupyter-widgets/base",
     "model_module_version": "1.2.0",
     "model_name": "LayoutModel",
     "state": {
      "_model_module": "@jupyter-widgets/base",
      "_model_module_version": "1.2.0",
      "_model_name": "LayoutModel",
      "_view_count": null,
      "_view_module": "@jupyter-widgets/base",
      "_view_module_version": "1.2.0",
      "_view_name": "LayoutView",
      "align_content": null,
      "align_items": null,
      "align_self": null,
      "border": null,
      "bottom": null,
      "display": null,
      "flex": null,
      "flex_flow": null,
      "grid_area": null,
      "grid_auto_columns": null,
      "grid_auto_flow": null,
      "grid_auto_rows": null,
      "grid_column": null,
      "grid_gap": null,
      "grid_row": null,
      "grid_template_areas": null,
      "grid_template_columns": null,
      "grid_template_rows": null,
      "height": null,
      "justify_content": null,
      "justify_items": null,
      "left": null,
      "margin": null,
      "max_height": null,
      "max_width": null,
      "min_height": null,
      "min_width": null,
      "object_fit": null,
      "object_position": null,
      "order": null,
      "overflow": null,
      "overflow_x": null,
      "overflow_y": null,
      "padding": null,
      "right": null,
      "top": null,
      "visibility": null,
      "width": null
     }
    },
    "c8b43a8ff20d47bab0acb9ab279b38e8": {
     "model_module": "@jupyter-widgets/controls",
     "model_module_version": "1.5.0",
     "model_name": "HBoxModel",
     "state": {
      "_dom_classes": [],
      "_model_module": "@jupyter-widgets/controls",
      "_model_module_version": "1.5.0",
      "_model_name": "HBoxModel",
      "_view_count": null,
      "_view_module": "@jupyter-widgets/controls",
      "_view_module_version": "1.5.0",
      "_view_name": "HBoxView",
      "box_style": "",
      "children": [
       "IPY_MODEL_3933d86b49fa4f1fa711a98daec36bc5",
       "IPY_MODEL_cdea0b17475f4508ab45e57f3b5bf438",
       "IPY_MODEL_9f7c5d75ca394865bc7cb28f9953bf81"
      ],
      "layout": "IPY_MODEL_d3325567a607478fb65cb535385553a1"
     }
    },
    "cdea0b17475f4508ab45e57f3b5bf438": {
     "model_module": "@jupyter-widgets/controls",
     "model_module_version": "1.5.0",
     "model_name": "FloatProgressModel",
     "state": {
      "_dom_classes": [],
      "_model_module": "@jupyter-widgets/controls",
      "_model_module_version": "1.5.0",
      "_model_name": "FloatProgressModel",
      "_view_count": null,
      "_view_module": "@jupyter-widgets/controls",
      "_view_module_version": "1.5.0",
      "_view_name": "ProgressView",
      "bar_style": "success",
      "description": "",
      "description_tooltip": null,
      "layout": "IPY_MODEL_18711f6e480d492faacd36a6815dc9e0",
      "max": 2,
      "min": 0,
      "orientation": "horizontal",
      "style": "IPY_MODEL_399b022e7e314efda60e305b8c0d577c",
      "value": 2
     }
    },
    "d3325567a607478fb65cb535385553a1": {
     "model_module": "@jupyter-widgets/base",
     "model_module_version": "1.2.0",
     "model_name": "LayoutModel",
     "state": {
      "_model_module": "@jupyter-widgets/base",
      "_model_module_version": "1.2.0",
      "_model_name": "LayoutModel",
      "_view_count": null,
      "_view_module": "@jupyter-widgets/base",
      "_view_module_version": "1.2.0",
      "_view_name": "LayoutView",
      "align_content": null,
      "align_items": null,
      "align_self": null,
      "border": null,
      "bottom": null,
      "display": null,
      "flex": null,
      "flex_flow": null,
      "grid_area": null,
      "grid_auto_columns": null,
      "grid_auto_flow": null,
      "grid_auto_rows": null,
      "grid_column": null,
      "grid_gap": null,
      "grid_row": null,
      "grid_template_areas": null,
      "grid_template_columns": null,
      "grid_template_rows": null,
      "height": null,
      "justify_content": null,
      "justify_items": null,
      "left": null,
      "margin": null,
      "max_height": null,
      "max_width": null,
      "min_height": null,
      "min_width": null,
      "object_fit": null,
      "object_position": null,
      "order": null,
      "overflow": null,
      "overflow_x": null,
      "overflow_y": null,
      "padding": null,
      "right": null,
      "top": null,
      "visibility": null,
      "width": null
     }
    },
    "d873ed686a6e404a9d362863704ccaf6": {
     "model_module": "@jupyter-widgets/controls",
     "model_module_version": "1.5.0",
     "model_name": "DescriptionStyleModel",
     "state": {
      "_model_module": "@jupyter-widgets/controls",
      "_model_module_version": "1.5.0",
      "_model_name": "DescriptionStyleModel",
      "_view_count": null,
      "_view_module": "@jupyter-widgets/base",
      "_view_module_version": "1.2.0",
      "_view_name": "StyleView",
      "description_width": ""
     }
    },
    "d8de0b3ddca54112ac568efec10cd7dc": {
     "model_module": "@jupyter-widgets/controls",
     "model_module_version": "1.5.0",
     "model_name": "DescriptionStyleModel",
     "state": {
      "_model_module": "@jupyter-widgets/controls",
      "_model_module_version": "1.5.0",
      "_model_name": "DescriptionStyleModel",
      "_view_count": null,
      "_view_module": "@jupyter-widgets/base",
      "_view_module_version": "1.2.0",
      "_view_name": "StyleView",
      "description_width": ""
     }
    },
    "e4d045311345492b858219074bbd9cfe": {
     "model_module": "@jupyter-widgets/base",
     "model_module_version": "1.2.0",
     "model_name": "LayoutModel",
     "state": {
      "_model_module": "@jupyter-widgets/base",
      "_model_module_version": "1.2.0",
      "_model_name": "LayoutModel",
      "_view_count": null,
      "_view_module": "@jupyter-widgets/base",
      "_view_module_version": "1.2.0",
      "_view_name": "LayoutView",
      "align_content": null,
      "align_items": null,
      "align_self": null,
      "border": null,
      "bottom": null,
      "display": null,
      "flex": null,
      "flex_flow": null,
      "grid_area": null,
      "grid_auto_columns": null,
      "grid_auto_flow": null,
      "grid_auto_rows": null,
      "grid_column": null,
      "grid_gap": null,
      "grid_row": null,
      "grid_template_areas": null,
      "grid_template_columns": null,
      "grid_template_rows": null,
      "height": null,
      "justify_content": null,
      "justify_items": null,
      "left": null,
      "margin": null,
      "max_height": null,
      "max_width": null,
      "min_height": null,
      "min_width": null,
      "object_fit": null,
      "object_position": null,
      "order": null,
      "overflow": null,
      "overflow_x": null,
      "overflow_y": null,
      "padding": null,
      "right": null,
      "top": null,
      "visibility": null,
      "width": null
     }
    },
    "e7f5a2bac2b94b3989b2e0c899c18731": {
     "model_module": "@jupyter-widgets/base",
     "model_module_version": "1.2.0",
     "model_name": "LayoutModel",
     "state": {
      "_model_module": "@jupyter-widgets/base",
      "_model_module_version": "1.2.0",
      "_model_name": "LayoutModel",
      "_view_count": null,
      "_view_module": "@jupyter-widgets/base",
      "_view_module_version": "1.2.0",
      "_view_name": "LayoutView",
      "align_content": null,
      "align_items": null,
      "align_self": null,
      "border": null,
      "bottom": null,
      "display": null,
      "flex": null,
      "flex_flow": null,
      "grid_area": null,
      "grid_auto_columns": null,
      "grid_auto_flow": null,
      "grid_auto_rows": null,
      "grid_column": null,
      "grid_gap": null,
      "grid_row": null,
      "grid_template_areas": null,
      "grid_template_columns": null,
      "grid_template_rows": null,
      "height": null,
      "justify_content": null,
      "justify_items": null,
      "left": null,
      "margin": null,
      "max_height": null,
      "max_width": null,
      "min_height": null,
      "min_width": null,
      "object_fit": null,
      "object_position": null,
      "order": null,
      "overflow": null,
      "overflow_x": null,
      "overflow_y": null,
      "padding": null,
      "right": null,
      "top": null,
      "visibility": null,
      "width": null
     }
    },
    "f166947eb2a9490eb3f3898be7a137e9": {
     "model_module": "@jupyter-widgets/base",
     "model_module_version": "1.2.0",
     "model_name": "LayoutModel",
     "state": {
      "_model_module": "@jupyter-widgets/base",
      "_model_module_version": "1.2.0",
      "_model_name": "LayoutModel",
      "_view_count": null,
      "_view_module": "@jupyter-widgets/base",
      "_view_module_version": "1.2.0",
      "_view_name": "LayoutView",
      "align_content": null,
      "align_items": null,
      "align_self": null,
      "border": null,
      "bottom": null,
      "display": null,
      "flex": null,
      "flex_flow": null,
      "grid_area": null,
      "grid_auto_columns": null,
      "grid_auto_flow": null,
      "grid_auto_rows": null,
      "grid_column": null,
      "grid_gap": null,
      "grid_row": null,
      "grid_template_areas": null,
      "grid_template_columns": null,
      "grid_template_rows": null,
      "height": null,
      "justify_content": null,
      "justify_items": null,
      "left": null,
      "margin": null,
      "max_height": null,
      "max_width": null,
      "min_height": null,
      "min_width": null,
      "object_fit": null,
      "object_position": null,
      "order": null,
      "overflow": null,
      "overflow_x": null,
      "overflow_y": null,
      "padding": null,
      "right": null,
      "top": null,
      "visibility": null,
      "width": null
     }
    }
   }
  }
 },
 "nbformat": 4,
 "nbformat_minor": 4
}
