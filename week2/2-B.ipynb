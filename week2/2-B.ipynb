{
  "cells": [
    {
      "cell_type": "markdown",
      "metadata": {
        "id": "view-in-github",
        "colab_type": "text"
      },
      "source": [
        "<a href=\"https://colab.research.google.com/github/tolluset/hh-ai-1/blob/2-a/2-A.ipynb\" target=\"_parent\"><img src=\"https://colab.research.google.com/assets/colab-badge.svg\" alt=\"Open In Colab\"/></a>"
      ]
    },
    {
      "cell_type": "markdown",
      "metadata": {
        "id": "ymxatB5WYxlL"
      },
      "source": [
        "# 과제 2-A\n",
        "\n",
        "\n"
      ]
    },
    {
      "cell_type": "code",
      "source": [
        "!pip install jupyter_black"
      ],
      "metadata": {
        "collapsed": true,
        "id": "L1XCtuFA2qtS"
      },
      "execution_count": null,
      "outputs": []
    },
    {
      "cell_type": "code",
      "execution_count": 35,
      "metadata": {
        "id": "nFw0udeuHK7R"
      },
      "outputs": [],
      "source": [
        "import jupyter_black\n",
        "\n",
        "jupyter_black.load()"
      ]
    },
    {
      "cell_type": "code",
      "execution_count": 36,
      "metadata": {
        "id": "fQ4LzQtbHK7R"
      },
      "outputs": [],
      "source": [
        "backend = \"cuda\""
      ]
    },
    {
      "cell_type": "code",
      "execution_count": null,
      "metadata": {
        "id": "1X7RM2du1zcr",
        "collapsed": true
      },
      "outputs": [],
      "source": [
        "!pip install datasets"
      ]
    },
    {
      "cell_type": "code",
      "source": [
        "!pip install sacremoses"
      ],
      "metadata": {
        "id": "ekuBFgP3HoOX",
        "collapsed": true
      },
      "execution_count": null,
      "outputs": []
    },
    {
      "cell_type": "code",
      "execution_count": null,
      "metadata": {
        "id": "HOdhoBVA1zcu"
      },
      "outputs": [],
      "source": [
        "import torch\n",
        "from datasets import load_dataset\n",
        "from torch.utils.data import DataLoader\n",
        "from transformers import BertTokenizerFast\n",
        "from tokenizers import (\n",
        "    decoders,\n",
        "    models,\n",
        "    normalizers,\n",
        "    pre_tokenizers,\n",
        "    processors,\n",
        "    trainers,\n",
        "    Tokenizer,\n",
        ")\n",
        "\n",
        "\n",
        "ds = load_dataset(\"stanfordnlp/imdb\")\n",
        "tokenizer = torch.hub.load(\n",
        "    \"huggingface/pytorch-transformers\", \"tokenizer\", \"bert-base-uncased\"\n",
        ")\n",
        "\n",
        "\n",
        "def collate_fn(batch):\n",
        "    max_len = 400\n",
        "    texts, labels = [], []\n",
        "    for row in batch:\n",
        "        labels.append(row[\"label\"])\n",
        "        texts.append(row[\"text\"])\n",
        "\n",
        "    texts = torch.LongTensor(\n",
        "        tokenizer(texts, padding=True, truncation=True, max_length=max_len).input_ids\n",
        "    )\n",
        "    labels = torch.LongTensor(labels)\n",
        "\n",
        "    return texts, labels\n",
        "\n",
        "\n",
        "train_loader = DataLoader(\n",
        "    ds[\"train\"], batch_size=64, shuffle=True, collate_fn=collate_fn\n",
        ")\n",
        "test_loader = DataLoader(\n",
        "    ds[\"test\"], batch_size=64, shuffle=False, collate_fn=collate_fn\n",
        ")"
      ]
    },
    {
      "cell_type": "markdown",
      "metadata": {
        "id": "i-FshZcTZBQ2"
      },
      "source": [
        "## Self-attention"
      ]
    },
    {
      "cell_type": "code",
      "execution_count": 40,
      "metadata": {
        "id": "MBlMVMZcRAxv"
      },
      "outputs": [],
      "source": [
        "from torch import nn\n",
        "from math import sqrt\n",
        "\n",
        "\n",
        "class SelfAttention(nn.Module):\n",
        "  def __init__(self, input_dim, d_model):\n",
        "    super().__init__()\n",
        "\n",
        "    self.input_dim = input_dim\n",
        "    self.d_model = d_model\n",
        "\n",
        "    self.wq = nn.Linear(input_dim, d_model)\n",
        "    self.wk = nn.Linear(input_dim, d_model)\n",
        "    self.wv = nn.Linear(input_dim, d_model)\n",
        "    self.dense = nn.Linear(d_model, d_model)\n",
        "\n",
        "    self.softmax = nn.Softmax(dim=-1)\n",
        "\n",
        "  def forward(self, x, mask):\n",
        "    q, k, v = self.wq(x), self.wk(x), self.wv(x)\n",
        "    score = torch.matmul(q, k.transpose(-1, -2)) # (B, S, D) * (B, D, S) = (B, S, S)\n",
        "    score = score / sqrt(self.d_model)\n",
        "\n",
        "    if mask is not None:\n",
        "      score = score + (mask * -1e9)\n",
        "\n",
        "    score = self.softmax(score)\n",
        "    result = torch.matmul(score, v)\n",
        "    result = self.dense(result)\n",
        "\n",
        "    return result"
      ]
    },
    {
      "cell_type": "markdown",
      "source": [
        "## Multi-head attention(MHA) 구현\n",
        "\n",
        "- ✅ $Q, K, V \\in \\mathbb{R}^{S \\times D}$가 있을 때, 이를 $Q, K, V \\in \\mathbb{R}^{S \\times H \\times D’}$으로 reshape 해줍니다. 여기서 $H$는 n_heads라는 인자로 받아야 하고, $D$가 $H$로 나눠 떨어지는 값이여야 하는 제약 조건이 필요합니다. $D = H \\times D’$입니다.\n",
        "\n",
        "- ✅ $Q, K, V$를 $Q, K, V \\in \\mathbb{R}^{H \\times S \\times D’}$의 shape으로 transpose해줍니다.\n",
        "\n",
        "\n",
        "- ✅ Mask를 더합니다. 기존과 $A$의 shape이 달라졌기 때문에 dimension을 어떻게 맞춰줘야할지 생각해줘야 합니다.\n",
        "\n",
        "- ✅ $\\hat{x} = \\textrm{Softmax}(A)V \\in \\mathbb{R}^{H \\times S \\times D'}$를 계산해주고 transpose와 reshape을 통해 $\\hat{x} \\in \\mathbb{R}^{S \\times D}$의 shape으로 다시 만들어줍니다."
      ],
      "metadata": {
        "id": "6MhlJ6Hr3pxG"
      }
    },
    {
      "cell_type": "code",
      "source": [
        "from torch import nn\n",
        "from math import sqrt\n",
        "\n",
        "\n",
        "class MultiHeadAttention(nn.Module):\n",
        "    def __init__(self, input_dim, d_model, n_heads):\n",
        "        super().__init__()\n",
        "\n",
        "        assert d_model % n_heads == 0, \"d_model must be divisible by num_heads\"\n",
        "\n",
        "        self.d_model = d_model\n",
        "        self.n_heads = n_heads\n",
        "\n",
        "        self.depth = d_model // n_heads\n",
        "\n",
        "        self.wq = nn.Linear(input_dim, d_model)\n",
        "        self.wk = nn.Linear(input_dim, d_model)\n",
        "        self.wv = nn.Linear(input_dim, d_model)\n",
        "        self.dense = nn.Linear(d_model, d_model)\n",
        "\n",
        "        self.softmax = nn.Softmax(dim=-1)\n",
        "\n",
        "\n",
        "    def split_heads(self, x):\n",
        "        batch_size, seq_len, _ = x.size()\n",
        "        # S, D -> S, H, D' -> H, S, D'\n",
        "        return x.view(batch_size, seq_len, self.n_heads, self.depth).transpose(1, 2)\n",
        "\n",
        "\n",
        "    def forward(self, x, mask):\n",
        "        batch_size = x.size(0)\n",
        "\n",
        "        # H, S, D'\n",
        "        q, k, v = (\n",
        "            self.split_heads(self.wq(x)),\n",
        "            self.split_heads(self.wk(x)),\n",
        "            self.split_heads(self.wv(x)),\n",
        "        )\n",
        "\n",
        "        # (H, S, D') * (H, D', S) -> H, S, S\n",
        "        score = torch.matmul(q, k.transpose(-1, -2)) / sqrt(self.depth)\n",
        "\n",
        "        if mask is not None:\n",
        "          mask = mask.unsqueeze(1)\n",
        "          score = score + (mask * -1e9)\n",
        "\n",
        "        score = self.softmax(score)\n",
        "        result = torch.matmul(score, v)  # (H, S, S) * (H, S, D') -> H, S, D'\n",
        "\n",
        "        # H, S, D' -> S, H, D' -> S, D\n",
        "        result = result.transpose(1, 2).contiguous().view(batch_size, -1, self.d_model)\n",
        "        result = self.dense(result)\n",
        "\n",
        "        return result"
      ],
      "metadata": {
        "id": "6uhD-qjn3tiH"
      },
      "execution_count": 41,
      "outputs": []
    },
    {
      "cell_type": "markdown",
      "source": [
        "## Layer normalization, dropout, residual connection 구현\n",
        "\n",
        "```\n",
        "✅ 다음과 같이 수정해주시면 됩니다.\n",
        "# x, mask is given\n",
        "\n",
        "x1 = MHA(x, mask)\n",
        "x1 = Dropout(x1)\n",
        "x1 = LayerNormalization(x1 + x)\n",
        "\n",
        "x2 = FFN(x)\n",
        "x2 = Dropout(x2)\n",
        "x2 = LayerNormalization(x2 + x1)\n",
        "\n",
        "return x2\n",
        "```"
      ],
      "metadata": {
        "id": "sYxpPIS-A5eA"
      }
    },
    {
      "cell_type": "code",
      "execution_count": 42,
      "metadata": {
        "id": "VZHPCn9AS5Gp"
      },
      "outputs": [],
      "source": [
        "class TransformerLayer(nn.Module):\n",
        "    def __init__(self, input_dim, d_model, dff, n_heads, dropout_rate=0.1):\n",
        "        super().__init__()\n",
        "\n",
        "        self.input_dim = input_dim\n",
        "        self.d_model = d_model\n",
        "        self.dff = dff\n",
        "\n",
        "        self.mha = MultiHeadAttention(input_dim, d_model, n_heads)\n",
        "        self.ffn = nn.Sequential(\n",
        "            nn.Linear(d_model, dff), nn.ReLU(), nn.Linear(dff, d_model)\n",
        "        )\n",
        "\n",
        "        self.layernorm1 = nn.LayerNorm(d_model)\n",
        "        self.layernorm2 = nn.LayerNorm(d_model)\n",
        "        self.dropout = nn.Dropout(dropout_rate)\n",
        "\n",
        "    def forward(self, x, mask):\n",
        "        x1 = self.mha(x, mask)\n",
        "        x1 = self.dropout(x1)\n",
        "        x1 = self.layernorm1(x1 + x)\n",
        "\n",
        "        x2 = self.ffn(x1)\n",
        "        x2 = self.dropout(x2)\n",
        "        x2 = self.layernorm2(x2 + x1)\n",
        "\n",
        "        return x2"
      ]
    },
    {
      "cell_type": "markdown",
      "metadata": {
        "id": "J3VYrqTJagS1"
      },
      "source": [
        "## Positional encoding"
      ]
    },
    {
      "cell_type": "code",
      "execution_count": 43,
      "metadata": {
        "colab": {
          "base_uri": "https://localhost:8080/"
        },
        "id": "Uf_jMQWDUR79",
        "outputId": "c4c1a29b-746b-4c8c-a8f2-4bc899619bca"
      },
      "outputs": [
        {
          "output_type": "stream",
          "name": "stdout",
          "text": [
            "torch.Size([1, 400, 256])\n"
          ]
        }
      ],
      "source": [
        "import numpy as np\n",
        "\n",
        "\n",
        "def get_angles(pos, i, d_model):\n",
        "    angle_rates = 1 / np.power(10000, (2 * (i // 2)) / np.float32(d_model))\n",
        "    return pos * angle_rates\n",
        "\n",
        "\n",
        "def positional_encoding(position, d_model):\n",
        "    angle_rads = get_angles(\n",
        "        np.arange(position)[:, None], np.arange(d_model)[None, :], d_model\n",
        "    )\n",
        "    angle_rads[:, 0::2] = np.sin(angle_rads[:, 0::2])\n",
        "    angle_rads[:, 1::2] = np.cos(angle_rads[:, 1::2])\n",
        "    pos_encoding = angle_rads[None, ...]\n",
        "\n",
        "    return torch.FloatTensor(pos_encoding)\n",
        "\n",
        "\n",
        "max_len = 400\n",
        "print(positional_encoding(max_len, 256).shape)"
      ]
    },
    {
      "cell_type": "markdown",
      "source": [
        "##5-layer 4-head Transformer\n",
        "- ✅ 기존 실습에서 사용한 hyper-parameter들과 위에서 구현한 Transformer를 가지고 5-layer 4-head Transformer의 성능 결과를 report해주시면 됩니다."
      ],
      "metadata": {
        "id": "DTnFgZUCLfI9"
      }
    },
    {
      "cell_type": "code",
      "execution_count": 44,
      "metadata": {
        "id": "8MaiCGh8TsDH"
      },
      "outputs": [],
      "source": [
        "class TextClassifier(nn.Module):\n",
        "    def __init__(self, vocab_size, d_model, n_layers, dff, n_heads):\n",
        "        super().__init__()\n",
        "\n",
        "        self.vocab_size = vocab_size\n",
        "        self.d_model = d_model\n",
        "        self.n_layers = n_layers\n",
        "        self.dff = dff\n",
        "\n",
        "        self.embedding = nn.Embedding(vocab_size, d_model)\n",
        "        self.pos_encoding = nn.parameter.Parameter(\n",
        "            positional_encoding(max_len, d_model), requires_grad=False\n",
        "        )\n",
        "        self.layers = nn.ModuleList(\n",
        "            [TransformerLayer(d_model, d_model, dff, n_heads) for _ in range(n_layers)]\n",
        "        )\n",
        "        self.classification = nn.Linear(d_model, 1)\n",
        "\n",
        "    def forward(self, x):\n",
        "        mask = x == tokenizer.pad_token_id\n",
        "        mask = mask[:, None, :]\n",
        "        seq_len = x.shape[1]\n",
        "\n",
        "        x = self.embedding(x)\n",
        "        x = x * sqrt(self.d_model)\n",
        "        x = x + self.pos_encoding[:, :seq_len]\n",
        "\n",
        "        for layer in self.layers:\n",
        "            x = layer(x, mask)\n",
        "\n",
        "        x = x[:, 0]\n",
        "        x = self.classification(x)\n",
        "\n",
        "        return x\n",
        "\n",
        "\n",
        "model = TextClassifier(len(tokenizer), 32, 5, 128, 4)"
      ]
    },
    {
      "cell_type": "markdown",
      "metadata": {
        "id": "QDq05OlAb2lB"
      },
      "source": [
        "## 학습\n"
      ]
    },
    {
      "cell_type": "code",
      "execution_count": 45,
      "metadata": {
        "id": "YHVVsWBPQmnv"
      },
      "outputs": [],
      "source": [
        "from torch.optim import Adam\n",
        "\n",
        "lr = 0.001\n",
        "model = model.to(backend)\n",
        "loss_fn = nn.BCEWithLogitsLoss()\n",
        "\n",
        "optimizer = Adam(model.parameters(), lr=lr)"
      ]
    },
    {
      "cell_type": "code",
      "execution_count": 46,
      "metadata": {
        "id": "r88BALxO1zc1"
      },
      "outputs": [],
      "source": [
        "import numpy as np\n",
        "import matplotlib.pyplot as plt\n",
        "\n",
        "\n",
        "def accuracy(model, dataloader):\n",
        "    cnt = 0\n",
        "    acc = 0\n",
        "\n",
        "    for data in dataloader:\n",
        "        inputs, labels = data\n",
        "        inputs, labels = inputs.to(backend), labels.to(backend)\n",
        "\n",
        "        preds = model(inputs)\n",
        "        # preds = torch.argmax(preds, dim=-1)\n",
        "        preds = (preds > 0).long()[..., 0]\n",
        "\n",
        "        cnt += labels.shape[0]\n",
        "        acc += (labels == preds).sum().item()\n",
        "\n",
        "    return acc / cnt"
      ]
    },
    {
      "cell_type": "code",
      "execution_count": 47,
      "metadata": {
        "colab": {
          "base_uri": "https://localhost:8080/"
        },
        "id": "al_b56TYRILq",
        "outputId": "97baa148-3e87-49b6-d645-1cd37183c5d4"
      },
      "outputs": [
        {
          "output_type": "stream",
          "name": "stdout",
          "text": [
            "Epoch   0 | Train Loss: 218.48692874610424\n",
            "=========> Train acc: 0.820 | Test acc: 0.787\n",
            "Epoch   1 | Train Loss: 150.3742184638977\n",
            "=========> Train acc: 0.880 | Test acc: 0.815\n",
            "Epoch   2 | Train Loss: 119.84587635099888\n",
            "=========> Train acc: 0.914 | Test acc: 0.831\n"
          ]
        }
      ],
      "source": [
        "# 시간관계상 50 -> 3으로 변경\n",
        "n_epochs = 3\n",
        "\n",
        "for epoch in range(n_epochs):\n",
        "  total_loss = 0.\n",
        "  model.train()\n",
        "  for data in train_loader:\n",
        "    model.zero_grad()\n",
        "    inputs, labels = data\n",
        "    inputs, labels = inputs.to(backend), labels.to(backend).float()\n",
        "\n",
        "    preds = model(inputs)[..., 0]\n",
        "    loss = loss_fn(preds, labels)\n",
        "    loss.backward()\n",
        "    optimizer.step()\n",
        "\n",
        "    total_loss += loss.item()\n",
        "\n",
        "  print(f\"Epoch {epoch:3d} | Train Loss: {total_loss}\")\n",
        "\n",
        "  with torch.no_grad():\n",
        "    model.eval()\n",
        "    train_acc = accuracy(model, train_loader)\n",
        "    test_acc = accuracy(model, test_loader)\n",
        "    print(f\"=========> Train acc: {train_acc:.3f} | Test acc: {test_acc:.3f}\")"
      ]
    }
  ],
  "metadata": {
    "accelerator": "GPU",
    "colab": {
      "gpuType": "T4",
      "provenance": [],
      "include_colab_link": true
    },
    "kernelspec": {
      "display_name": "Python 3 (ipykernel)",
      "language": "python",
      "name": "python3"
    },
    "language_info": {
      "codemirror_mode": {
        "name": "ipython",
        "version": 3
      },
      "file_extension": ".py",
      "mimetype": "text/x-python",
      "name": "python",
      "nbconvert_exporter": "python",
      "pygments_lexer": "ipython3",
      "version": "3.12.5"
    }
  },
  "nbformat": 4,
  "nbformat_minor": 0
}