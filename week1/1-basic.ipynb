{
 "cells": [
  {
   "cell_type": "markdown",
   "metadata": {
    "id": "OPJenlrhihrh"
   },
   "source": [
    "# MNIST 실습\n",
    "\n",
    "이번에는 28x28 흑백 손글씨 이미지를 보고 0~9 사이의 숫자 중 어떤 숫자를 쓴 것인지 예측하는 문제를 실습합니다.\n",
    "이번 실습에서는 GPU를 활용할 것이기 때문에, 이전 챕터에서 Colab에서 GPU를 설정하는 방법을 따라해주시길 바랍니다.\n",
    "\n",
    "GPU를 설정했으면 library들을 import합니다."
   ]
  },
  {
   "cell_type": "code",
   "execution_count": 1,
   "metadata": {},
   "outputs": [],
   "source": [
    "backend = 'mps'"
   ]
  },
  {
   "cell_type": "raw",
   "metadata": {},
   "source": [
    "colab으로 사용하는 경우 mps에서 cuda로 변경하여 사용합니다."
   ]
  },
  {
   "cell_type": "code",
   "execution_count": 2,
   "metadata": {
    "id": "6lXVfXoDtoQh"
   },
   "outputs": [],
   "source": [
    "import torch\n",
    "import torchvision\n",
    "import torchvision.transforms as transforms"
   ]
  },
  {
   "cell_type": "markdown",
   "metadata": {
    "id": "pF-1zQvmiult"
   },
   "source": [
    "다음은 dataset을 준비합니다. 손글씨 dataset은 MNIST라는 유명한 dataset이 있습니다. 이 dataset은 `torchvision`에서 제공하고 있으며, 다음과 같이 다운로드 받을 수 있습니다."
   ]
  },
  {
   "cell_type": "code",
   "execution_count": 3,
   "metadata": {
    "colab": {
     "base_uri": "https://localhost:8080/"
    },
    "id": "KAYlqPaRt6ti",
    "outputId": "09122f7e-901e-4d4f-da42-393200eb30d0"
   },
   "outputs": [],
   "source": [
    "transform = transforms.ToTensor()\n",
    "\n",
    "trainset = torchvision.datasets.MNIST(\n",
    "    root='./data',\n",
    "    train=True,\n",
    "    download=True,\n",
    "    transform=transform\n",
    ")"
   ]
  },
  {
   "cell_type": "code",
   "execution_count": 4,
   "metadata": {},
   "outputs": [],
   "source": [
    "testset = torchvision.datasets.MNIST(\n",
    "    root='./data',\n",
    "    train=False,\n",
    "    download=True,\n",
    "    transform=transform\n",
    ")"
   ]
  },
  {
   "cell_type": "markdown",
   "metadata": {
    "id": "p-GqH7_ZjVMs"
   },
   "source": [
    "MNIST는 손글씨 사진과 어떤 숫자를 의미하는지에 대한 label의 pair들로 구성되어있습니다.\n",
    "이 때, 우리는 PyTorch model을 사용할 것이기 때문에 손글씨 사진들을 모두 tensor로 변환해야합니다.\n",
    "이러한 부가적인 변환들은 `torchvision.transforms`에서 제공하고 있으며, `torchvision.datasets.MNIST`에서 `transform` 인자로 받을 수 있습니다.\n",
    "우리는 단순히 사진을 tensor로 바꾸고 싶기 때문에 `transforms.ToTensor()` transformation을 넘겨줍니다.\n",
    "\n",
    "다음은 전체 data의 개수와 첫 번째 data를 출력한 결과입니다."
   ]
  },
  {
   "cell_type": "code",
   "execution_count": 5,
   "metadata": {
    "colab": {
     "base_uri": "https://localhost:8080/",
     "height": 482
    },
    "id": "Zsp3sHmojyhT",
    "outputId": "1552e911-e0b8-4512-e0ed-a22f0ffef187"
   },
   "outputs": [
    {
     "name": "stdout",
     "output_type": "stream",
     "text": [
      "60000\n",
      "torch.Size([1, 28, 28]) 5\n"
     ]
    },
    {
     "data": {
      "text/plain": [
       "<matplotlib.image.AxesImage at 0x11e93bad0>"
      ]
     },
     "execution_count": 5,
     "metadata": {},
     "output_type": "execute_result"
    },
    {
     "data": {
      "image/png": "[encoded data removed]",
      "text/plain": [
       "<Figure size 640x480 with 1 Axes>"
      ]
     },
     "metadata": {},
     "output_type": "display_data"
    }
   ],
   "source": [
    "from matplotlib import pyplot as plt\n",
    "\n",
    "\n",
    "print(len(trainset))\n",
    "print(trainset[0][0].shape, trainset[0][1])\n",
    "plt.imshow(trainset[0][0][0], cmap='gray')"
   ]
  },
  {
   "cell_type": "markdown",
   "metadata": {
    "id": "udm8wDBsi301"
   },
   "source": [
    "첫 번째 출력결과를 통해 우리는 6만장의 손글씨 data가 있는 것을 알 수 있습니다.\n",
    "그리고 두 번째 출력결과를 통해 첫 번째 data의 shape은 (1, 28, 28)이고 5라는 숫자를 쓴 사진이라는 것을 알 수 있습니다.\n",
    "마지막으로 `plt.imshow`를 통해 visualize 했을 때 5라는 숫자가 나오는 것을 알 수 있습니다.\n",
    "\n",
    "다음은 SGD를 위해 dataset을 여러 개의 batch로 나누는 과정을 PyTorch로 구현한 모습입니다."
   ]
  },
  {
   "cell_type": "code",
   "execution_count": 6,
   "metadata": {
    "id": "UxKu3kA2i5WH"
   },
   "outputs": [],
   "source": [
    "batch_size = 256\n",
    "\n",
    "trainloader = torch.utils.data.DataLoader(\n",
    "    trainset,\n",
    "    batch_size=batch_size,\n",
    "    shuffle=True\n",
    ")"
   ]
  },
  {
   "cell_type": "code",
   "execution_count": 7,
   "metadata": {},
   "outputs": [],
   "source": [
    "testloader = torch.utils.data.DataLoader(\n",
    "    testset,\n",
    "    batch_size=batch_size,\n",
    "    shuffle=False\n",
    ")"
   ]
  },
  {
   "cell_type": "markdown",
   "metadata": {
    "id": "z4Qyrm4WlzWt"
   },
   "source": [
    "PyTorch에서는 `DataLoader`가 dataset을 인자로 받아 batch로 나눠줍니다.\n",
    "부가적으로 `batch_size`라는 인자를 통해 batch size를 받고 있으며, `shuffle`이라는 인자를 통해 data들을 섞을지 결정해줍니다.\n",
    "우리는 SGD가 완전 랜덤으로 batch를 구성해야 잘 동작하는 것을 알고 있기 때문에 `shuffle`에 `True`를 넘겨주고 있습니다.\n",
    "\n",
    "다음은 첫 번째 batch를 출력한 모습입니다."
   ]
  },
  {
   "cell_type": "code",
   "execution_count": 8,
   "metadata": {
    "colab": {
     "base_uri": "https://localhost:8080/"
    },
    "id": "_Hd7XxyAvVNz",
    "outputId": "cc58caef-fb72-497a-fd40-c3d6a8e79ae0"
   },
   "outputs": [
    {
     "name": "stdout",
     "output_type": "stream",
     "text": [
      "torch.Size([256, 1, 28, 28]) torch.Size([256])\n"
     ]
    }
   ],
   "source": [
    "dataiter = iter(trainloader)\n",
    "images, labels = next(dataiter)\n",
    "print(images.shape, labels.shape)"
   ]
  },
  {
   "cell_type": "markdown",
   "metadata": {
    "id": "h0ZY5mDimRUK"
   },
   "source": [
    "`images`는 첫 번째 batch의 image들이고 `labels`는 첫 번째 batch의 label들입니다.\n",
    "위에서 batch size를 64로 설정했기 때문에 총 64개의 image와 label들이 있어야 합니다.\n",
    "실제 shape 출력 결과를 보면 그렇다는 것을 알 수 있습니다.\n",
    "\n",
    "다음은 (n, 1, 28, 28) shape의 image를 입력받아 0~9 사이의 정수 하나를 출력하는 3-layer MLP를 구현합니다."
   ]
  },
  {
   "cell_type": "code",
   "execution_count": 9,
   "metadata": {
    "id": "OLOA-ZGTuVVG"
   },
   "outputs": [],
   "source": [
    "from torch import nn\n",
    "\n",
    "\n",
    "class Model(nn.Module):\n",
    "  def __init__(self, input_dim, n_dim, label_dim):\n",
    "    super().__init__()\n",
    "\n",
    "    self.layer1 = nn.Linear(input_dim, n_dim)\n",
    "    self.layer2 = nn.Linear(n_dim, n_dim)\n",
    "    self.layer3 = nn.Linear(n_dim, label_dim)\n",
    "\n",
    "    self.act = nn.ReLU()\n",
    "\n",
    "  def forward(self, x):\n",
    "    x = torch.flatten(x, start_dim=1)\n",
    "    x = self.act(self.layer1(x))\n",
    "    x = self.act(self.layer2(x))\n",
    "    x = self.layer3(x)\n",
    "\n",
    "    return x\n",
    "\n",
    "\n",
    "model = Model(28 * 28 * 1, 1024, 10)"
   ]
  },
  {
   "cell_type": "markdown",
   "metadata": {
    "id": "tag1rNcwmnAr"
   },
   "source": [
    "이전의 2-layer MLP와 유사한 형태임을 알 수 있습니다.\n",
    "여기서 특이사항은 `forward`의 첫 번째 줄에 `torch.flatten`을 사용한다는 것입니다.\n",
    "`Linear`는 이전에도 봤다시피 (n, d) 형태의 shape을 입력받습니다.\n",
    "이미지는 (n, 1, 28, 28)이기 때문에 (n, 1 * 28 * 28)로 shape을 변환해야 선형 함수에 입력으로 주어줄 수 있게 됩니다.\n",
    "이 역할을 수행하는 것이 바로 `torch.flatten`입니다.\n",
    "우리는 첫 번째 shape인 n을 보존할 것이기 때문에 flatten할 차원은 `start_dim=1`로 넘겨주게 됩니다.\n",
    "\n",
    "다음은 gradient descent를 수행해줄 optimizer를 구현하는 모습입니다."
   ]
  },
  {
   "cell_type": "code",
   "execution_count": 10,
   "metadata": {
    "id": "ypS0TcOlvBhZ"
   },
   "outputs": [],
   "source": [
    "from torch.optim import SGD\n",
    "\n",
    "lr = 0.001\n",
    "model = model.to(backend)\n",
    "\n",
    "optimizer = SGD(model.parameters(), lr=lr)"
   ]
  },
  {
   "cell_type": "markdown",
   "metadata": {
    "id": "5PooeOKMnRfZ"
   },
   "source": [
    "이전 코드와 거의 똑같습니다. 다른 점은 `model.to('cuda')` 코드를 통해 우리가 구현한 model을 GPU로 옮긴 것입니다.\n",
    "MNIST 부터는 모델과 data가 커지면서 훨씬 많은 행렬 연산이 이루어지기 때문에 GPU를 활용하는 것이 빠릅니다.\n",
    "\n",
    "다음은 model을 MNIST에 학습하는 코드입니다."
   ]
  },
  {
   "cell_type": "code",
   "execution_count": 11,
   "metadata": {},
   "outputs": [],
   "source": [
    "def accuracy(model, dataloader):\n",
    "  cnt = 0\n",
    "  acc = 0\n",
    "\n",
    "  for data in dataloader:\n",
    "    inputs, labels = data\n",
    "    inputs, labels = inputs.to(backend), labels.to(backend)\n",
    "\n",
    "    preds = model(inputs)\n",
    "    preds = torch.argmax(preds, dim=-1)\n",
    "\n",
    "    cnt += labels.shape[0]\n",
    "    acc += (labels == preds).sum().item()    \n",
    "\n",
    "  return acc / cnt"
   ]
  },
  {
   "cell_type": "code",
   "execution_count": 12,
   "metadata": {
    "colab": {
     "base_uri": "https://localhost:8080/"
    },
    "id": "TryX1hewvNiB",
    "outputId": "1537455e-6330-41d3-ff00-923cf42fc6b9",
    "scrolled": true
   },
   "outputs": [
    {
     "name": "stdout",
     "output_type": "stream",
     "text": [
      "Epoch   0 | Loss: 539.5655641555786\n",
      "Epoch   1 | Loss: 535.7200453281403\n",
      "Epoch   2 | Loss: 531.7684473991394\n",
      "Epoch   3 | Loss: 527.5595483779907\n",
      "Epoch   4 | Loss: 523.0170073509216\n",
      "Epoch   5 | Loss: 517.9786949157715\n",
      "Epoch   6 | Loss: 512.3340308666229\n",
      "Epoch   7 | Loss: 505.940034866333\n",
      "Epoch   8 | Loss: 498.6405882835388\n",
      "Epoch   9 | Loss: 490.2712023258209\n",
      "Epoch  10 | Loss: 480.63829612731934\n",
      "Epoch  11 | Loss: 469.56789219379425\n",
      "Epoch  12 | Loss: 456.9314250946045\n",
      "Epoch  13 | Loss: 442.60073268413544\n",
      "Epoch  14 | Loss: 426.5911331176758\n",
      "Epoch  15 | Loss: 408.9169157743454\n",
      "Epoch  16 | Loss: 389.96047019958496\n",
      "Epoch  17 | Loss: 369.9108724594116\n",
      "Epoch  18 | Loss: 349.3697168827057\n",
      "Epoch  19 | Loss: 328.92857229709625\n",
      "Epoch  20 | Loss: 309.03794717788696\n",
      "Epoch  21 | Loss: 290.21041321754456\n",
      "Epoch  22 | Loss: 272.75499856472015\n",
      "Epoch  23 | Loss: 256.83251851797104\n",
      "Epoch  24 | Loss: 242.4570653438568\n",
      "Epoch  25 | Loss: 229.65044671297073\n",
      "Epoch  26 | Loss: 218.01075810194016\n",
      "Epoch  27 | Loss: 207.71900749206543\n",
      "Epoch  28 | Loss: 198.58189588785172\n",
      "Epoch  29 | Loss: 190.31435126066208\n",
      "Epoch  30 | Loss: 182.972902238369\n",
      "Epoch  31 | Loss: 176.2539673447609\n",
      "Epoch  32 | Loss: 170.22781765460968\n",
      "Epoch  33 | Loss: 164.76620638370514\n",
      "Epoch  34 | Loss: 159.80945760011673\n",
      "Epoch  35 | Loss: 155.2406479716301\n",
      "Epoch  36 | Loss: 151.03259402513504\n",
      "Epoch  37 | Loss: 147.30856415629387\n",
      "Epoch  38 | Loss: 143.7281097471714\n",
      "Epoch  39 | Loss: 140.53214806318283\n",
      "Epoch  40 | Loss: 137.5059777200222\n",
      "Epoch  41 | Loss: 134.69434314966202\n",
      "Epoch  42 | Loss: 132.0721342265606\n",
      "Epoch  43 | Loss: 129.52010521292686\n",
      "Epoch  44 | Loss: 127.29833972454071\n",
      "Epoch  45 | Loss: 125.09508576989174\n",
      "Epoch  46 | Loss: 123.11050707101822\n",
      "Epoch  47 | Loss: 121.26001858711243\n",
      "Epoch  48 | Loss: 119.33169168233871\n",
      "Epoch  49 | Loss: 117.77274659276009\n",
      "Epoch  50 | Loss: 116.1752188205719\n",
      "Epoch  51 | Loss: 114.614670753479\n",
      "Epoch  52 | Loss: 113.08983591198921\n",
      "Epoch  53 | Loss: 111.76526400446892\n",
      "Epoch  54 | Loss: 110.36690378189087\n",
      "Epoch  55 | Loss: 109.23183333873749\n",
      "Epoch  56 | Loss: 107.9699519276619\n",
      "Epoch  57 | Loss: 106.89036974310875\n",
      "Epoch  58 | Loss: 105.81560909748077\n",
      "Epoch  59 | Loss: 104.68708190321922\n",
      "Epoch  60 | Loss: 103.79898130893707\n",
      "Epoch  61 | Loss: 102.81879219412804\n",
      "Epoch  62 | Loss: 102.04336056113243\n",
      "Epoch  63 | Loss: 101.06388810276985\n",
      "Epoch  64 | Loss: 100.12903028726578\n",
      "Epoch  65 | Loss: 99.3217111825943\n",
      "Epoch  66 | Loss: 98.48725074529648\n",
      "Epoch  67 | Loss: 97.74304059147835\n",
      "Epoch  68 | Loss: 97.15497308969498\n",
      "Epoch  69 | Loss: 96.31384336948395\n",
      "Epoch  70 | Loss: 95.62680408358574\n",
      "Epoch  71 | Loss: 95.06832981109619\n",
      "Epoch  72 | Loss: 94.42794692516327\n",
      "Epoch  73 | Loss: 93.82388538122177\n",
      "Epoch  74 | Loss: 93.25583755970001\n",
      "Epoch  75 | Loss: 92.59743243455887\n",
      "Epoch  76 | Loss: 92.13303196430206\n",
      "Epoch  77 | Loss: 91.50404268503189\n",
      "Epoch  78 | Loss: 90.91564592719078\n",
      "Epoch  79 | Loss: 90.43922224640846\n",
      "Epoch  80 | Loss: 89.92851004004478\n",
      "Epoch  81 | Loss: 89.53114768862724\n",
      "Epoch  82 | Loss: 89.02905663847923\n",
      "Epoch  83 | Loss: 88.55930414795876\n",
      "Epoch  84 | Loss: 88.10083064436913\n",
      "Epoch  85 | Loss: 87.77616733312607\n",
      "Epoch  86 | Loss: 87.34366829693317\n",
      "Epoch  87 | Loss: 86.86876660585403\n",
      "Epoch  88 | Loss: 86.40327690541744\n",
      "Epoch  89 | Loss: 86.06396931409836\n",
      "Epoch  90 | Loss: 85.66718116402626\n",
      "Epoch  91 | Loss: 85.3518833220005\n",
      "Epoch  92 | Loss: 84.9480210840702\n",
      "Epoch  93 | Loss: 84.65431818366051\n",
      "Epoch  94 | Loss: 84.2138820886612\n",
      "Epoch  95 | Loss: 83.82620126008987\n",
      "Epoch  96 | Loss: 83.47354555130005\n",
      "Epoch  97 | Loss: 83.1794693917036\n",
      "Epoch  98 | Loss: 82.91535167396069\n",
      "Epoch  99 | Loss: 82.54654836654663\n"
     ]
    }
   ],
   "source": [
    "n_epochs = 100\n",
    "\n",
    "train_accs = []\n",
    "test_accs = []\n",
    "\n",
    "for epoch in range(n_epochs):\n",
    "\n",
    "  total_loss = 0.\n",
    "\n",
    "  for data in trainloader:\n",
    "    model.zero_grad()\n",
    "\n",
    "    inputs, labels = data\n",
    "    inputs, labels = inputs.to(backend), labels.to(backend)\n",
    "\n",
    "    preds = model(inputs)\n",
    "\n",
    "    loss_fn = nn.CrossEntropyLoss()\n",
    "    loss = loss_fn(preds, labels)\n",
    "    \n",
    "    loss.backward()\n",
    "    optimizer.step()\n",
    "\n",
    "    total_loss += loss.item()\n",
    "\n",
    "  train_accs.append(accuracy(model, trainloader))\n",
    "  test_accs.append(accuracy(model, testloader))\n",
    "  \n",
    "  print(f\"Epoch {epoch:3d} | Loss: {total_loss}\")"
   ]
  },
  {
   "cell_type": "markdown",
   "metadata": {
    "id": "YRDcptrqniX7"
   },
   "source": [
    "출력 결과를 보면 잘 수렴하는 것을 볼 수 있습니다.\n",
    "이전 구현과 다른 점은 다음 두 가지입니다.\n",
    "- `for data in trainloader`를 통해 batch들을 iterate하면서 model을 학습합니다.\n",
    "- `inputs, labels = inputs.to('cuda'), labels.to('cuda')`를 통해 model의 입력으로 들어가는 tensor들을 GPU로 보냅니다.\n",
    "\n",
    "마지막으로 첫 번째 data에 대한 예측 결과를 살펴봅시다."
   ]
  },
  {
   "cell_type": "code",
   "execution_count": 13,
   "metadata": {
    "colab": {
     "base_uri": "https://localhost:8080/"
    },
    "id": "Zct0ssSKwjt1",
    "outputId": "4a8d7062-1a43-4522-895e-cfebb9c02cdb"
   },
   "outputs": [
    {
     "name": "stdout",
     "output_type": "stream",
     "text": [
      "tensor([[ 1.7710, -3.9950,  0.4975,  5.2421, -5.4936,  4.8197, -2.6213,  0.2268,\n",
      "          1.3423, -0.4772]], device='mps:0', grad_fn=<LinearBackward0>)\n",
      "5\n"
     ]
    }
   ],
   "source": [
    "idx = 0\n",
    "\n",
    "x = trainset[idx][0][None]  # (1, 1, 28, 28)\n",
    "x = x.to(backend)\n",
    "\n",
    "print(model(x))\n",
    "print(trainset[idx][1])"
   ]
  },
  {
   "cell_type": "markdown",
   "metadata": {
    "id": "qzgSOrMsoZ2z"
   },
   "source": [
    "여기서 idx를 조정하여 다른 data에 대한 출력 결과도 볼 수 있습니다.\n",
    "예측 결과를 보시면 아직 성능이 그렇게 좋지 않은 것을 알 수 있습니다."
   ]
  },
  {
   "cell_type": "code",
   "execution_count": 14,
   "metadata": {},
   "outputs": [
    {
     "data": {
      "image/png": "[encoded data removed]",
      "text/plain": [
       "<Figure size 640x480 with 1 Axes>"
      ]
     },
     "metadata": {},
     "output_type": "display_data"
    }
   ],
   "source": [
    "import numpy as np\n",
    "\n",
    "def plot_acc(train_accs, test_accs, label1='train', label2='test'):\n",
    "  x = np.arange(len(train_accs))\n",
    "\n",
    "  plt.plot(x, train_accs, label=label1)\n",
    "  plt.plot(x, test_accs, label=label2)\n",
    "  plt.legend()\n",
    "  plt.show()\n",
    "\n",
    "\n",
    "plot_acc(train_accs, test_accs)"
   ]
  }
 ],
 "metadata": {
  "accelerator": "GPU",
  "colab": {
   "gpuType": "T4",
   "provenance": []
  },
  "kernelspec": {
   "display_name": "Python 3 (ipykernel)",
   "language": "python",
   "name": "python3"
  },
  "language_info": {
   "codemirror_mode": {
    "name": "ipython",
    "version": 3
   },
   "file_extension": ".py",
   "mimetype": "text/x-python",
   "name": "python",
   "nbconvert_exporter": "python",
   "pygments_lexer": "ipython3",
   "version": "3.12.5"
  }
 },
 "nbformat": 4,
 "nbformat_minor": 4
}
